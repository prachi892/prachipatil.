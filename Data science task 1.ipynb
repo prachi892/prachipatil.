# 📌 Task 6: Business Recommendations

# Step 1: Import Libraries
import pandas as pd
import numpy as np
from sklearn.model_selection import train_test_split
from sklearn.linear_model import LogisticRegression
from sklearn.metrics import accuracy_score

# Step 2: Dummy Dataset (for demonstration)
data = {
    'CustomerID': [1, 2, 3, 4, 5, 6, 7, 8],
    'Tenure': [2, 12, 24, 6, 36, 48, 5, 8],  # months
    'MonthlyCharges': [20, 55, 70, 40, 90, 120, 35, 60],
    'TotalCharges': [40, 660, 1680, 240, 3240, 5760, 175, 480],
    'Churn': [1, 0, 0, 1, 0, 0, 1, 1]  # 1 = churn, 0 = stay
}

df = pd.DataFrame(data)

# Step 3: Split Features and Target
X = df[['Tenure', 'MonthlyCharges', 'TotalCharges']]
y = df['Churn']

X_train, X_test, y_train, y_test = train_test_split(X, y, test_size=0.3, random_state=42)

# Step 4: Train Model
model = LogisticRegression()
model.fit(X_train, y_train)

# Step 5: Predictions
y_pred = model.predict(X_test)
print("✅ Model Accuracy:", accuracy_score(y_test, y_pred))

# Step 6: Identify At-Risk Customers (high churn probability)
df['Churn_Prob'] = model.predict_proba(X)[:,1]
at_risk = df[df['Churn_Prob'] > 0.5]

# Step 7: Business Recommendations
print("\n📌 Business Recommendations:")
if len(at_risk) > 0:
    print(f"- {len(at_risk)} customers are at high churn risk.")
    print("- Offer targeted discounts (10-15%) to at-risk customers.")
    print("- Introduce loyalty rewards for long-term customers (e.g., >24 months).")
    print("- Improve engagement through personalized emails and support.")
else:
    print("- Low churn risk detected. Focus on upselling premium services.")

# Step 8: Estimate Business Impact
avg_monthly_revenue = df['MonthlyCharges'].mean()
potential_savings = len(at_risk) * avg_monthly_revenue
print(f"\n💰 Estimated Revenue Saved if churn prevented: ${potential_savings:.2f}/month")
print(f"📉 Churn Rate Before Strategy: {df['Churn'].mean()*100:.2f}%")
print(f"📉 Expected Churn Rate After Strategy: {(df['Churn'].mean() - 0.1)*100:.2f}% (approx)")
