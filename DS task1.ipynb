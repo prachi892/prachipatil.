
# 📌 Task 1: Data Preparation (with Dummy Dataset)

# Step 1: Import libraries
import pandas as pd
from sklearn.model_selection import train_test_split

# Step 2: Create a dummy dataset (no need to load CSV)
data = {
    'CustomerID': [1, 2, 3, 4, 5],
    'Gender': ['Male', 'Female', 'Female', 'Male', None],
    'Age': [34, 29, None, 42, 36],
    'Contract': ['Month-to-month', 'One year', 'Two year', 'Month-to-month', 'One year'],
    'MonthlyCharges': [70.5, 85.3, 60.2, None, 99.9],
    'Churn': ['Yes', 'No', 'No', 'Yes', 'No']
}

df = pd.DataFrame(data)
print("✅ Dataset Created Successfully")
print("\n🔹 First 5 Rows of Dataset:")
print(df.head())

# Step 3: Check dataset info and missing values
print("\n🔎 Dataset Info:")
print(df.info())

print("\n❌ Missing Values per Column:")
print(df.isnull().sum())

# Step 4: Handle missing values
# Fill numeric columns with mean
for col in df.select_dtypes(include=['float64','int64']).columns:
    df[col].fillna(df[col].mean(), inplace=True)

# Fill categorical columns with mode
for col in df.select_dtypes(include=['object']).columns:
    df[col].fillna(df[col].mode()[0], inplace=True)

print("\n✅ Missing values handled successfully")
print(df.head())

# Step 5: Convert categorical → numerical
df_encoded = pd.get_dummies(df, drop_first=True)
print("\n✅ Encoding completed")
print("Shape after encoding:", df_encoded.shape)

print("\n🔹 Encoded Dataset Preview:")
print(df_encoded.head())

# Step 6: Split dataset into Training & Testing
X = df_encoded.drop("Churn_Yes", axis=1)  # target = Churn
y = df_encoded["Churn_Yes"]

X_train, X_test, y_train, y_test = train_test_split(X, y, test_size=0.2, random_state=42)

print("\n✅ Dataset Split Completed")
print("Training set shape:", X_train.shape)
print("Testing set shape:", X_test.shape)
